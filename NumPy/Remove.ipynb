{
 "cells": [
  {
   "cell_type": "markdown",
   "source": [
    "\"\"\"\n",
    "* @Author: Samarth BM.\n",
    "* @Date: 2021-09-25 23:38  \n",
    "* @Last Modified by: Samarth BM\n",
    "* @Last Modified time: 2021-09-25 23:38\n",
    "* @Title: To remove specific element in a array.\n",
    "\"\"\""
   ],
   "metadata": {}
  },
  {
   "cell_type": "code",
   "execution_count": 4,
   "source": [
    "import numpy as np\n",
    "from LogHandler import logger\n",
    "\n",
    "try:\n",
    "    \n",
    "    arr = np.array([10, 20, 30, 40, 50, 60, 70, 80, 90, 100])\n",
    "    print(\"Original array:\\n\", arr)    \n",
    "    print(\"After Deleting first, fourth and fifth elements:\\n\", np.delete(arr, [0,3,4]))\n",
    "\n",
    "except Exception as e:\n",
    "    logger.error(e)"
   ],
   "outputs": [
    {
     "output_type": "stream",
     "name": "stdout",
     "text": [
      "Original array:\n",
      " [ 10  20  30  40  50  60  70  80  90 100]\n",
      "After Deleting first, fourth and fifth elements:\n",
      " [ 20  30  60  70  80  90 100]\n"
     ]
    }
   ],
   "metadata": {}
  }
 ],
 "metadata": {
  "orig_nbformat": 4,
  "language_info": {
   "name": "python",
   "version": "3.8.10",
   "mimetype": "text/x-python",
   "codemirror_mode": {
    "name": "ipython",
    "version": 3
   },
   "pygments_lexer": "ipython3",
   "nbconvert_exporter": "python",
   "file_extension": ".py"
  },
  "kernelspec": {
   "name": "python3",
   "display_name": "Python 3.8.10 64-bit"
  },
  "interpreter": {
   "hash": "916dbcbb3f70747c44a77c7bcd40155683ae19c65e1c03b4aa3499c5328201f1"
  }
 },
 "nbformat": 4,
 "nbformat_minor": 2
}