{
 "cells": [
  {
   "cell_type": "markdown",
   "source": [
    "\"\"\"\n",
    "* @Author: Samarth BM.\n",
    "* @Date: 2021-09-25 20:22  \n",
    "* @Last Modified by: Samarth BM\n",
    "* @Last Modified time: 2021-09-25 20:22\n",
    "* @Title: To change the data type of an array."
   ],
   "metadata": {}
  },
  {
   "cell_type": "code",
   "execution_count": 5,
   "source": [
    "import numpy as np\n",
    "from LogHandler import logger\n",
    "\n",
    "try:\n",
    "    \n",
    "    arr1 = np.array([18,17,15,9,10], int)\n",
    "    print(\"Array1:\",arr1)\n",
    "    print(\"Data type of array1 is:\", arr1.dtype)\n",
    "    arr2 = arr1.astype(float)\n",
    "    print(\"Array2:\",arr2)\n",
    "    print(\"Data type of array2 is:\", arr2.dtype)\n",
    "\n",
    "except Exception as e:\n",
    "    logger.error(e)"
   ],
   "outputs": [
    {
     "output_type": "stream",
     "name": "stdout",
     "text": [
      "Array1: [18 17 15  9 10]\n",
      "Data type of array1 is: int64\n",
      "Array2: [18. 17. 15.  9. 10.]\n",
      "Data type of array2 is: float64\n"
     ]
    }
   ],
   "metadata": {}
  }
 ],
 "metadata": {
  "orig_nbformat": 4,
  "language_info": {
   "name": "python",
   "version": "3.8.10",
   "mimetype": "text/x-python",
   "codemirror_mode": {
    "name": "ipython",
    "version": 3
   },
   "pygments_lexer": "ipython3",
   "nbconvert_exporter": "python",
   "file_extension": ".py"
  },
  "kernelspec": {
   "name": "python3",
   "display_name": "Python 3.8.10 64-bit"
  },
  "interpreter": {
   "hash": "916dbcbb3f70747c44a77c7bcd40155683ae19c65e1c03b4aa3499c5328201f1"
  }
 },
 "nbformat": 4,
 "nbformat_minor": 2
}