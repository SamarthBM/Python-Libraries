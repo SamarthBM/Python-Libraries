{
 "cells": [
  {
   "cell_type": "markdown",
   "source": [
    "\"\"\"\n",
    "* @Author: Samarth BM.\n",
    "* @Date: 2021-09-27 23:30\n",
    "* @Last Modified by: Samarth BM\n",
    "* @Last Modified time: 2021-09-27 23:30\n",
    "* @Title: To to plot quantities which have an x and y position.\n",
    " \"\"\""
   ],
   "metadata": {}
  },
  {
   "cell_type": "code",
   "execution_count": 8,
   "source": [
    "from matplotlib import pyplot as plt\n",
    "from LogHandler import logger\n",
    "\n",
    "try:\n",
    "\n",
    "    x1 = [2, 4, 6, 8, 10]\n",
    "    y1 = [5, 10, 15, 19, 25]\n",
    "    \n",
    "    x2 = [3, 4, 6, 7, 9]\n",
    "    y2 = [2, 6, 11, 20, 22]\n",
    "\n",
    "    plt.axis([0, 15, 0, 30])  # set new axes limits.\n",
    "    plt.plot(x1, y1,'b*', x2, y2, 'ro')  # x1 y1 in blue star and x2 y2 in red circle.\n",
    "\n",
    "    plt.show()\n",
    "\n",
    "except Exception as e:\n",
    "    logger.error(e)"
   ],
   "outputs": [
    {
     "output_type": "display_data",
     "data": {
      "image/png": "[encoded data removed]",
      "text/plain": [
       "<Figure size 432x288 with 1 Axes>"
      ]
     },
     "metadata": {
      "needs_background": "light"
     }
    }
   ],
   "metadata": {}
  }
 ],
 "metadata": {
  "orig_nbformat": 4,
  "language_info": {
   "name": "python",
   "version": "3.8.10",
   "mimetype": "text/x-python",
   "codemirror_mode": {
    "name": "ipython",
    "version": 3
   },
   "pygments_lexer": "ipython3",
   "nbconvert_exporter": "python",
   "file_extension": ".py"
  },
  "kernelspec": {
   "name": "python3",
   "display_name": "Python 3.8.10 64-bit"
  },
  "interpreter": {
   "hash": "916dbcbb3f70747c44a77c7bcd40155683ae19c65e1c03b4aa3499c5328201f1"
  }
 },
 "nbformat": 4,
 "nbformat_minor": 2
}