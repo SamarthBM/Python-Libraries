{
 "cells": [
  {
   "cell_type": "markdown",
   "source": [
    "\"\"\"\n",
    "* @Author: Samarth BM.\n",
    "* @Date: 2021-09-27 23:41\n",
    "* @Last Modified by: Samarth BM\n",
    "* @Last Modified time: 2021-09-27 23:41\n",
    "* @Title: To display the current axis limits values and set new axis values.\n",
    " \"\"\""
   ],
   "metadata": {}
  },
  {
   "cell_type": "code",
   "execution_count": 10,
   "source": [
    "from matplotlib import pyplot as plt\n",
    "from LogHandler import logger\n",
    "\n",
    "try:\n",
    "    \n",
    "    x =(25,26,27,28,29,30,31,32,33,34,35)\n",
    "    y= [val * 4 for val in x]\n",
    "    print(x)\n",
    "    print(y)\n",
    "\n",
    "    plt.plot(x,y)\n",
    "    print(\"Original axis limit: \",plt.axis())\n",
    "\n",
    "    # plt.xlim(20, 40)  # Setting limit for x axis.\n",
    "    # plt.ylim(90, 150) # Setting limit for y axis.\n",
    "    plt.axis([20,40,90,150])\n",
    "    plt.show()\n",
    "\n",
    "except Exception as e:\n",
    "    logger.error(e)"
   ],
   "outputs": [
    {
     "output_type": "stream",
     "name": "stdout",
     "text": [
      "(25, 26, 27, 28, 29, 30, 31, 32, 33, 34, 35)\n",
      "[100, 104, 108, 112, 116, 120, 124, 128, 132, 136, 140]\n",
      "Original axis limit:  (24.5, 35.5, 98.0, 142.0)\n"
     ]
    },
    {
     "output_type": "display_data",
     "data": {
      "image/png": "[encoded data removed]",
      "text/plain": [
       "<Figure size 432x288 with 1 Axes>"
      ]
     },
     "metadata": {
      "needs_background": "light"
     }
    }
   ],
   "metadata": {}
  }
 ],
 "metadata": {
  "orig_nbformat": 4,
  "language_info": {
   "name": "python",
   "version": "3.8.10",
   "mimetype": "text/x-python",
   "codemirror_mode": {
    "name": "ipython",
    "version": 3
   },
   "pygments_lexer": "ipython3",
   "nbconvert_exporter": "python",
   "file_extension": ".py"
  },
  "kernelspec": {
   "name": "python3",
   "display_name": "Python 3.8.10 64-bit"
  },
  "interpreter": {
   "hash": "916dbcbb3f70747c44a77c7bcd40155683ae19c65e1c03b4aa3499c5328201f1"
  }
 },
 "nbformat": 4,
 "nbformat_minor": 2
}