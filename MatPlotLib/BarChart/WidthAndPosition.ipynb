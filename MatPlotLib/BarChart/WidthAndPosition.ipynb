{
 "cells": [
  {
   "cell_type": "markdown",
   "source": [
    "\"\"\"\n",
    "* @Author: Samarth BM.\n",
    "* @Date: 2021-09-28 18:35\n",
    "* @Last Modified by: Samarth BM\n",
    "* @Last Modified time: 2021-09-28 18:35\n",
    "* @Title: To display a bar chart of the popularity of programming Languages. Select the width of each bar and   their positions."
   ],
   "metadata": {}
  },
  {
   "cell_type": "code",
   "execution_count": 6,
   "source": [
    "import matplotlib.pyplot as plt\n",
    "from LogHandler import logger\n",
    "\n",
    "try:\n",
    "\n",
    "    languages = ['Java', 'Python', 'PHP', 'JavaScript', 'C#', 'C++']\n",
    "    popularity = [22.2, 17.6, 8.8, 8, 7.7, 6.7]\n",
    "\n",
    "    plt.xlabel(\"Languages\")\n",
    "    plt.ylabel(\"Popularity\")\n",
    "    plt.title(\"Popularity of programming Languages\")\n",
    "\n",
    "    x_pos = [0,3,5,8,11,15] # space = 1,4,3,1,3 \n",
    "    width = [2.5, 1.5, 0.9, 1, 1.2, 1.5 ] # Seperate width\n",
    "\n",
    "    plt.bar(x_pos,popularity, color = 'pink', edgecolor = 'blue', width= width)\n",
    "    \n",
    "    plt.xticks(x_pos,languages) # Create names on the x-axis\n",
    "\n",
    "    \n",
    "    plt.show\n",
    "\n",
    "except Exception as e:\n",
    "    logger.error(e)"
   ],
   "outputs": [
    {
     "output_type": "display_data",
     "data": {
      "image/png": "[encoded data removed]",
      "text/plain": [
       "<Figure size 432x288 with 1 Axes>"
      ]
     },
     "metadata": {
      "needs_background": "light"
     }
    }
   ],
   "metadata": {}
  }
 ],
 "metadata": {
  "orig_nbformat": 4,
  "language_info": {
   "name": "python",
   "version": "3.8.10",
   "mimetype": "text/x-python",
   "codemirror_mode": {
    "name": "ipython",
    "version": 3
   },
   "pygments_lexer": "ipython3",
   "nbconvert_exporter": "python",
   "file_extension": ".py"
  },
  "kernelspec": {
   "name": "python3",
   "display_name": "Python 3.8.10 64-bit"
  },
  "interpreter": {
   "hash": "916dbcbb3f70747c44a77c7bcd40155683ae19c65e1c03b4aa3499c5328201f1"
  }
 },
 "nbformat": 4,
 "nbformat_minor": 2
}