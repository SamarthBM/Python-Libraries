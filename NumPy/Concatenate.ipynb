{
 "cells": [
  {
   "cell_type": "markdown",
   "source": [
    "\"\"\"\n",
    "* @Author: Samarth BM.\n",
    "* @Date: 2021-09-25 20:46  \n",
    "* @Last Modified by: Samarth BM\n",
    "* @Last Modified time: 2021-09-25 20:46\n",
    "* @Title: To concatenate two arrays."
   ],
   "metadata": {}
  },
  {
   "cell_type": "code",
   "execution_count": 11,
   "source": [
    "import numpy as np\n",
    "from LogHandler import logger\n",
    "\n",
    "try:\n",
    "    \n",
    "    arr1 = np.array([[1,2,3], [7,8,9]])\n",
    "    arr2 = np.array([[4,5,6], [10,11,12]])\n",
    "    arr3 = np.concatenate((arr1, arr2), axis=1)\n",
    "    print(\"With axis 1\\n\",arr3)\n",
    "\n",
    "    arr4= np.concatenate((arr1, arr2), axis=0)\n",
    "    print(\"With axis 0\\n\",arr4)\n",
    "\n",
    "    arr5= np.concatenate((arr1, arr2), axis=None)\n",
    "    print(\"With axis None\\n\",arr5)\n",
    "\n",
    "except Exception as e:\n",
    "    logger.error(e)"
   ],
   "outputs": [
    {
     "output_type": "stream",
     "name": "stdout",
     "text": [
      "With axis 1\n",
      " [[ 1  2  3  4  5  6]\n",
      " [ 7  8  9 10 11 12]]\n",
      "With axis 0\n",
      " [[ 1  2  3]\n",
      " [ 7  8  9]\n",
      " [ 4  5  6]\n",
      " [10 11 12]]\n",
      "With axis None\n",
      " [ 1  2  3  7  8  9  4  5  6 10 11 12]\n"
     ]
    }
   ],
   "metadata": {}
  }
 ],
 "metadata": {
  "orig_nbformat": 4,
  "language_info": {
   "name": "python",
   "version": "3.8.10",
   "mimetype": "text/x-python",
   "codemirror_mode": {
    "name": "ipython",
    "version": 3
   },
   "pygments_lexer": "ipython3",
   "nbconvert_exporter": "python",
   "file_extension": ".py"
  },
  "kernelspec": {
   "name": "python3",
   "display_name": "Python 3.8.10 64-bit"
  },
  "interpreter": {
   "hash": "916dbcbb3f70747c44a77c7bcd40155683ae19c65e1c03b4aa3499c5328201f1"
  }
 },
 "nbformat": 4,
 "nbformat_minor": 2
}