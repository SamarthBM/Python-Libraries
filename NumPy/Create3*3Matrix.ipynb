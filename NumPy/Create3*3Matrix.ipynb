{
 "cells": [
  {
   "cell_type": "markdown",
   "source": [
    "\"\"\"\n",
    "@Author: Samarth BM.\n",
    "@Date: 2021-09-24 23:45  \n",
    "@Last Modified by: Samarth BM\n",
    "@Last Modified time: 2021-09-24 23:45\n",
    "@Title: To create 3*3 matrix.\n",
    "\"\"\""
   ],
   "metadata": {}
  },
  {
   "cell_type": "code",
   "execution_count": 3,
   "source": [
    "import numpy as np\n",
    "from LogHandler import logger\n",
    "\n",
    "try:\n",
    "\n",
    "    matrix = np.array([[2,3,4],[5,6,7],[8,9,10]])\n",
    "    print(\"3*3 matrix is:\\n\",matrix)\n",
    "\n",
    "except Exception as e:\n",
    "    logger.error(e)\n"
   ],
   "outputs": [
    {
     "output_type": "stream",
     "name": "stdout",
     "text": [
      "3*3 matrix is:\n",
      " [[ 2  3  4]\n",
      " [ 5  6  7]\n",
      " [ 8  9 10]]\n"
     ]
    }
   ],
   "metadata": {}
  }
 ],
 "metadata": {
  "orig_nbformat": 4,
  "language_info": {
   "name": "python",
   "version": "3.8.10",
   "mimetype": "text/x-python",
   "codemirror_mode": {
    "name": "ipython",
    "version": 3
   },
   "pygments_lexer": "ipython3",
   "nbconvert_exporter": "python",
   "file_extension": ".py"
  },
  "kernelspec": {
   "name": "python3",
   "display_name": "Python 3.8.10 64-bit"
  },
  "interpreter": {
   "hash": "31f2aee4e71d21fbe5cf8b01ff0e069b9275f58929596ceb00d14d90e3e16cd6"
  }
 },
 "nbformat": 4,
 "nbformat_minor": 2
}