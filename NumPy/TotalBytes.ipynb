{
 "cells": [
  {
   "cell_type": "markdown",
   "source": [
    "\"\"\"\n",
    "* @Author: Samarth BM.\n",
    "* @Date: 2021-09-25 14:01  \n",
    "* @Last Modified by: Samarth BM\n",
    "* @Last Modified time: 2021-09-25 14:01\n",
    "* @Title: To find the number of elements of an array, length of one array\n",
    "          element in bytes and total bytes consumed by the elements.\n",
    "\"\"\""
   ],
   "metadata": {}
  },
  {
   "cell_type": "code",
   "execution_count": 17,
   "source": [
    "import numpy as np\n",
    "from LogHandler import logger\n",
    "\n",
    "arr = np.array([5,7,8,10], np.float_)\n",
    "\n",
    "try:\n",
    "\n",
    "    print(\"Size of array:\",arr.size)\n",
    "    print(\"Length of each element in bytes:\",arr.itemsize)\n",
    "    print(\"Total bytes:\",arr.nbytes)\n",
    "\n",
    "except Exception as e:\n",
    "    logger.error(e)"
   ],
   "outputs": [
    {
     "output_type": "stream",
     "name": "stdout",
     "text": [
      "Size of array: 4\n",
      "Length of each element in bytes: 8\n",
      "Total bytes: 32\n"
     ]
    }
   ],
   "metadata": {}
  }
 ],
 "metadata": {
  "orig_nbformat": 4,
  "language_info": {
   "name": "python",
   "version": "3.8.10",
   "mimetype": "text/x-python",
   "codemirror_mode": {
    "name": "ipython",
    "version": 3
   },
   "pygments_lexer": "ipython3",
   "nbconvert_exporter": "python",
   "file_extension": ".py"
  },
  "kernelspec": {
   "name": "python3",
   "display_name": "Python 3.8.10 64-bit"
  },
  "interpreter": {
   "hash": "916dbcbb3f70747c44a77c7bcd40155683ae19c65e1c03b4aa3499c5328201f1"
  }
 },
 "nbformat": 4,
 "nbformat_minor": 2
}