{
 "cells": [
  {
   "cell_type": "markdown",
   "source": [
    "\"\"\"\n",
    "* @Author: Samarth BM.\n",
    "* @Date: 2021-09-27 15:40\n",
    "* @Last Modified by: Samarth BM\n",
    "* @Last Modified time: 2021-09-27 15:40\n",
    "* @Title: To insert a new column in existing DataFrame.\n",
    "\"\"\""
   ],
   "metadata": {}
  },
  {
   "cell_type": "code",
   "execution_count": 5,
   "source": [
    "import pandas as pd\n",
    "import numpy as np\n",
    "from LogHandler import logger\n",
    "\n",
    "try:\n",
    "\n",
    "    exam_data  = {'name': ['Anastasia', 'Dima', 'Katherine', 'James', 'Emily', 'Michael', 'Matthew', 'Laura', 'Kevin', 'Jonas'],\n",
    "            'score': [12.5, 9, 16.5, np.nan, 9, 20, 14.5, np.nan, 8, 19],\n",
    "            'attempts': [1, 3, 2, 3, 2, 3, 1, 1, 2, 1],\n",
    "            'qualify': ['yes', 'no', 'yes', 'no', 'no', 'yes', 'yes', 'no', 'no', 'yes']}\n",
    "    labels = ['a', 'b', 'c', 'd', 'e', 'f', 'g', 'h', 'i', 'j']\n",
    "\n",
    "    data_frame = pd.DataFrame(exam_data , index=labels)\n",
    "    print(data_frame,\"\\n\")\n",
    "\n",
    "    data_frame.insert(1, \"gender\", ['female', 'female', 'female', 'male', 'female', 'male', 'male', 'female','male', 'male'], True)\n",
    "    print(\"\\nAfter adding gender column:\\n\",data_frame)\n",
    "except Exception as e:\n",
    "    logger.error(e)"
   ],
   "outputs": [
    {
     "output_type": "stream",
     "name": "stdout",
     "text": [
      "        name  score  attempts qualify\n",
      "a  Anastasia   12.5         1     yes\n",
      "b       Dima    9.0         3      no\n",
      "c  Katherine   16.5         2     yes\n",
      "d      James    NaN         3      no\n",
      "e      Emily    9.0         2      no\n",
      "f    Michael   20.0         3     yes\n",
      "g    Matthew   14.5         1     yes\n",
      "h      Laura    NaN         1      no\n",
      "i      Kevin    8.0         2      no\n",
      "j      Jonas   19.0         1     yes \n",
      "\n",
      "\n",
      "After adding gender column:\n",
      "         name  gender  score  attempts qualify\n",
      "a  Anastasia  female   12.5         1     yes\n",
      "b       Dima  female    9.0         3      no\n",
      "c  Katherine  female   16.5         2     yes\n",
      "d      James    male    NaN         3      no\n",
      "e      Emily  female    9.0         2      no\n",
      "f    Michael    male   20.0         3     yes\n",
      "g    Matthew    male   14.5         1     yes\n",
      "h      Laura  female    NaN         1      no\n",
      "i      Kevin    male    8.0         2      no\n",
      "j      Jonas    male   19.0         1     yes\n"
     ]
    }
   ],
   "metadata": {}
  }
 ],
 "metadata": {
  "orig_nbformat": 4,
  "language_info": {
   "name": "python"
  }
 },
 "nbformat": 4,
 "nbformat_minor": 2
}