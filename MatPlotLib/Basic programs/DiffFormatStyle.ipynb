{
 "cells": [
  {
   "cell_type": "markdown",
   "source": [
    "\"\"\"\n",
    "* @Author: Samarth BM.\n",
    "* @Date: 2021-09-28 00:04\n",
    "* @Last Modified by: Samarth BM\n",
    "* @Last Modified time: 2021-09-28 00:04\n",
    "* @Title: To plot several lines with different format styles in one command using arrays.\n",
    " \"\"\""
   ],
   "metadata": {}
  },
  {
   "cell_type": "code",
   "execution_count": 6,
   "source": [
    "import numpy as np\n",
    "import matplotlib.pyplot as plt\n",
    "from LogHandler import logger\n",
    "\n",
    "try:\n",
    "\n",
    "    # Getting values from 1 to 5.\n",
    "    val = np.arange(1,6)\n",
    "\n",
    "    # green circle, blue triangle and red star\n",
    "    plt.plot(val, val, 'go', val, val**2, 'b^', val, val**3, 'r*')\n",
    "    plt.show()\n",
    "\n",
    "except Exception as e:\n",
    "    logger.error(e)"
   ],
   "outputs": [
    {
     "output_type": "display_data",
     "data": {
      "image/png": "[encoded data removed]",
      "text/plain": [
       "<Figure size 432x288 with 1 Axes>"
      ]
     },
     "metadata": {
      "needs_background": "light"
     }
    }
   ],
   "metadata": {}
  }
 ],
 "metadata": {
  "orig_nbformat": 4,
  "language_info": {
   "name": "python",
   "version": "3.8.10",
   "mimetype": "text/x-python",
   "codemirror_mode": {
    "name": "ipython",
    "version": 3
   },
   "pygments_lexer": "ipython3",
   "nbconvert_exporter": "python",
   "file_extension": ".py"
  },
  "kernelspec": {
   "name": "python3",
   "display_name": "Python 3.8.10 64-bit"
  },
  "interpreter": {
   "hash": "916dbcbb3f70747c44a77c7bcd40155683ae19c65e1c03b4aa3499c5328201f1"
  }
 },
 "nbformat": 4,
 "nbformat_minor": 2
}