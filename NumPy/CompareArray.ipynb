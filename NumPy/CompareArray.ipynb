{
 "cells": [
  {
   "cell_type": "markdown",
   "source": [
    "\"\"\"\n",
    "* @Author: Samarth BM.\n",
    "* @Date: 2021-09-25 19:32  \n",
    "* @Last Modified by: Samarth BM\n",
    "* @Last Modified time: 2021-09-25 19:32\n",
    "* @Title: To compare two array for greater,lesser and greater/lesser than equal to."
   ],
   "metadata": {}
  },
  {
   "cell_type": "code",
   "execution_count": 9,
   "source": [
    "import numpy as np\n",
    "from LogHandler import logger\n",
    "\n",
    "try:\n",
    "    \n",
    "    arr1 = np.array([18,17,15,9])\n",
    "    arr2 = np.array([15,25,11,9])\n",
    "    print(arr1)\n",
    "    print(arr2)\n",
    "    \n",
    "    print(\"Is array1 greater than array2\\n\",np.greater(arr1,arr2))\n",
    "    print(\"Is array1 greater than equal to array2\\n\",np.greater_equal(arr1,arr2))\n",
    "    print(\"Is array1 less than array2\\n\",np.less(arr1,arr2))\n",
    "    print(\"Is array1 less than equal to  array2\\n\",np.less_equal(arr1,arr2))\n",
    "\n",
    "except Exception as e:\n",
    "    logger.error(e)"
   ],
   "outputs": [
    {
     "output_type": "stream",
     "name": "stdout",
     "text": [
      "[18 17 15  9]\n",
      "[15 25 11  9]\n",
      "Is array1 greater than array2\n",
      " [ True False  True False]\n",
      "Is array1 greater than equal to array2\n",
      " [ True False  True  True]\n",
      "Is array1 less than array2\n",
      " [False  True False False]\n",
      "Is array1 less than equal to  array2\n",
      " [False  True False  True]\n"
     ]
    }
   ],
   "metadata": {}
  }
 ],
 "metadata": {
  "orig_nbformat": 4,
  "language_info": {
   "name": "python",
   "version": "3.8.10",
   "mimetype": "text/x-python",
   "codemirror_mode": {
    "name": "ipython",
    "version": 3
   },
   "pygments_lexer": "ipython3",
   "nbconvert_exporter": "python",
   "file_extension": ".py"
  },
  "kernelspec": {
   "name": "python3",
   "display_name": "Python 3.8.10 64-bit"
  },
  "interpreter": {
   "hash": "916dbcbb3f70747c44a77c7bcd40155683ae19c65e1c03b4aa3499c5328201f1"
  }
 },
 "nbformat": 4,
 "nbformat_minor": 2
}