{
 "cells": [
  {
   "cell_type": "markdown",
   "source": [
    "\"\"\"\n",
    "* @Author: Samarth BM.\n",
    "* @Date: 2021-09-28 19:18\n",
    "* @Last Modified by: Samarth BM\n",
    "* @Last Modified time: 2021-09-28 19:18\n",
    "* @Title: To create bar plot of scores by group and gender. Use multiple X values on the same chart for men and women."
   ],
   "metadata": {}
  },
  {
   "cell_type": "code",
   "execution_count": 21,
   "source": [
    "import matplotlib.pyplot as plt\n",
    "from LogHandler import logger\n",
    "import numpy as np\n",
    "\n",
    "try: \n",
    "    x = ['Group A','Group B','Group C','Group D','Group E']\n",
    "    men = [22,30,33,30,26]\n",
    "    women = [25,32,30,35,29]\n",
    "\n",
    "    x_axis = np.arange(len(x))\n",
    "\n",
    "    plt.bar(x_axis - 0.2, men, width = 0.4, label = 'Men', color = 'red')\n",
    "    plt.bar(x_axis + 0.2, women, width = 0.4, label = 'Women', color = 'pink')\n",
    "\n",
    "    plt.xticks(x_axis,x) # Create names on the x-axis\n",
    "    plt.xlabel(\"Groups\")\n",
    "    plt.ylabel('Score')\n",
    "    plt.title(\"Scores by group and gender.\")\n",
    "    plt.ylim(0,40)\n",
    "\n",
    "    plt.legend()\n",
    "    plt.show()\n",
    "\n",
    "except Exception as e:\n",
    "    logger.error(e)\n"
   ],
   "outputs": [
    {
     "output_type": "display_data",
     "data": {
      "image/png": "[encoded data removed]",
      "text/plain": [
       "<Figure size 432x288 with 1 Axes>"
      ]
     },
     "metadata": {
      "needs_background": "light"
     }
    }
   ],
   "metadata": {}
  }
 ],
 "metadata": {
  "orig_nbformat": 4,
  "language_info": {
   "name": "python",
   "version": "3.8.10",
   "mimetype": "text/x-python",
   "codemirror_mode": {
    "name": "ipython",
    "version": 3
   },
   "pygments_lexer": "ipython3",
   "nbconvert_exporter": "python",
   "file_extension": ".py"
  },
  "kernelspec": {
   "name": "python3",
   "display_name": "Python 3.8.10 64-bit"
  },
  "interpreter": {
   "hash": "916dbcbb3f70747c44a77c7bcd40155683ae19c65e1c03b4aa3499c5328201f1"
  }
 },
 "nbformat": 4,
 "nbformat_minor": 2
}