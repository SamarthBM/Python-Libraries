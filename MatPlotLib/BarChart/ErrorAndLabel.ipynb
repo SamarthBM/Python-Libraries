{
 "cells": [
  {
   "cell_type": "markdown",
   "source": [
    "\"\"\"\n",
    "* @Author: Samarth BM.\n",
    "* @Date: 2021-09-28 19:51\n",
    "* @Last Modified by: Samarth BM\n",
    "* @Last Modified time: 2021-09-28 19:51\n",
    "* @Title: To create bar plots with errorbars on the same figure. Attach a text\n",
    "          label above each bar displaying men means (integer value)."
   ],
   "metadata": {}
  },
  {
   "cell_type": "code",
   "execution_count": 12,
   "source": [
    "import numpy as np\n",
    "import matplotlib.pyplot as plt\n",
    "import matplotlib.patches as mpatches\n",
    "from LogHandler import logger\n",
    "\n",
    "def addLabel(x,y):\n",
    "        for i in range(len(x)):\n",
    "            plt.text(i, y[i], int(y[i]))\n",
    "\n",
    "if __name__ == '__main__':\n",
    "\n",
    "    try:\n",
    "        x= ['a', 'b', 'c', 'd', 'e']\n",
    "        men_means = (54.74, 42.35, 67.37, 58.24, 30.25)\n",
    "        men_std= (4, 3, 4, 1, 5)\n",
    "\n",
    "        x_axis = np.arange(len(x))     \n",
    "\n",
    "        plt.xticks(x_axis,x)\n",
    "\n",
    "        addLabel(x,men_means)\n",
    "\n",
    "        plt.bar(x_axis, men_means, width=0.35, color='cyan', yerr=men_std)\n",
    "\n",
    "    except Exception as e:\n",
    "        logger.error(e)"
   ],
   "outputs": [
    {
     "output_type": "display_data",
     "data": {
      "image/png": "[encoded data removed]",
      "text/plain": [
       "<Figure size 432x288 with 1 Axes>"
      ]
     },
     "metadata": {
      "needs_background": "light"
     }
    }
   ],
   "metadata": {}
  }
 ],
 "metadata": {
  "orig_nbformat": 4,
  "language_info": {
   "name": "python",
   "version": "3.8.10",
   "mimetype": "text/x-python",
   "codemirror_mode": {
    "name": "ipython",
    "version": 3
   },
   "pygments_lexer": "ipython3",
   "nbconvert_exporter": "python",
   "file_extension": ".py"
  },
  "kernelspec": {
   "name": "python3",
   "display_name": "Python 3.8.10 64-bit"
  },
  "interpreter": {
   "hash": "916dbcbb3f70747c44a77c7bcd40155683ae19c65e1c03b4aa3499c5328201f1"
  }
 },
 "nbformat": 4,
 "nbformat_minor": 2
}