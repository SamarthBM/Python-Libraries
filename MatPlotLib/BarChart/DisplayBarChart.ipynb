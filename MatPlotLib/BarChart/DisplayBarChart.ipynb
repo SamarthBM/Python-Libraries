{
 "cells": [
  {
   "cell_type": "markdown",
   "source": [
    "\"\"\"\n",
    "* @Author: Samarth BM.\n",
    "* @Date: 2021-09-28 13:35\n",
    "* @Last Modified by: Samarth BM\n",
    "* @Last Modified time: 2021-09-28 13:35\n",
    "* @Title: To display a bar chart of the popularity of programming Languages.\n",
    "\"\"\""
   ],
   "metadata": {}
  },
  {
   "cell_type": "code",
   "execution_count": 4,
   "source": [
    "import matplotlib.pyplot as plt\n",
    "from LogHandler import logger\n",
    "\n",
    "try:\n",
    "\n",
    "    languages = ['Java', 'Python', 'PHP', 'JavaScript', 'C#', 'C++']\n",
    "    popularity = [22.2, 17.6, 8.8, 8, 7.7, 6.7]\n",
    "\n",
    "    plt.xlabel(\"Languages\")\n",
    "    plt.ylabel(\"Popularity\")\n",
    "    plt.title(\"Popularity of programming Languages\")\n",
    "\n",
    "    plt.bar(languages,popularity)\n",
    "    plt.show\n",
    "\n",
    "except Exception as e:\n",
    "    logger.error(e)"
   ],
   "outputs": [
    {
     "output_type": "display_data",
     "data": {
      "image/png": "[encoded data removed]",
      "text/plain": [
       "<Figure size 432x288 with 1 Axes>"
      ]
     },
     "metadata": {
      "needs_background": "light"
     }
    }
   ],
   "metadata": {}
  }
 ],
 "metadata": {
  "orig_nbformat": 4,
  "language_info": {
   "name": "python",
   "version": "3.8.10",
   "mimetype": "text/x-python",
   "codemirror_mode": {
    "name": "ipython",
    "version": 3
   },
   "pygments_lexer": "ipython3",
   "nbconvert_exporter": "python",
   "file_extension": ".py"
  },
  "kernelspec": {
   "name": "python3",
   "display_name": "Python 3.8.10 64-bit"
  },
  "interpreter": {
   "hash": "916dbcbb3f70747c44a77c7bcd40155683ae19c65e1c03b4aa3499c5328201f1"
  }
 },
 "nbformat": 4,
 "nbformat_minor": 2
}