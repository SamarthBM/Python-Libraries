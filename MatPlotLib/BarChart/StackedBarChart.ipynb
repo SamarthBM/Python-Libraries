{
 "cells": [
  {
   "cell_type": "markdown",
   "source": [
    "\"\"\"\n",
    "* @Author: Samarth BM.\n",
    "* @Date: 2021-09-28 20:05\n",
    "* @Last Modified by: Samarth BM\n",
    "* @Last Modified time: 2021-09-28 20:05\n",
    "* @Title: To create a stacked bar plot with error bars.\n",
    "          Note: Use bottom to stack the women's bars on top of the men's bars."
   ],
   "metadata": {}
  },
  {
   "cell_type": "code",
   "execution_count": 8,
   "source": [
    "import numpy as np\n",
    "import matplotlib.pyplot as plt\n",
    "from LogHandler import logger\n",
    "\n",
    "try:\n",
    "\n",
    "    x = ['Group A','Group B','Group C','Group D','Group E']\n",
    "\n",
    "    menMeans = (22, 30, 35, 35, 26)\n",
    "    womenMeans = (25, 32, 30, 35, 29)\n",
    "    menStd = (4, 3, 4, 1, 5)\n",
    "    womenStd = (3, 5, 2, 3, 3)\n",
    "    \n",
    "    x_axis = np.arange(len(x))    \n",
    "    \n",
    "    plot1 = plt.bar(x_axis, menMeans, width=0.35, yerr=menStd, color='red')\n",
    "    plot2 = plt.bar(x_axis, womenMeans, width=0.35, bottom=menMeans, yerr=womenStd, color='blue')\n",
    "\n",
    "    plt.ylabel('Scores')\n",
    "    plt.xlabel('Groups')\n",
    "    plt.title('Scores by group and gender')\n",
    "    plt.xticks(x_axis, x)\n",
    "    plt.legend((plot1[0], plot2[0]), ('Men', 'Women'))\n",
    "\n",
    "    plt.show()\n",
    "\n",
    "except Exception as e:\n",
    "    logger.error(e)"
   ],
   "outputs": [
    {
     "output_type": "display_data",
     "data": {
      "image/png": "[encoded data removed]",
      "text/plain": [
       "<Figure size 432x288 with 1 Axes>"
      ]
     },
     "metadata": {
      "needs_background": "light"
     }
    }
   ],
   "metadata": {}
  }
 ],
 "metadata": {
  "orig_nbformat": 4,
  "language_info": {
   "name": "python",
   "version": "3.8.10",
   "mimetype": "text/x-python",
   "codemirror_mode": {
    "name": "ipython",
    "version": 3
   },
   "pygments_lexer": "ipython3",
   "nbconvert_exporter": "python",
   "file_extension": ".py"
  },
  "kernelspec": {
   "name": "python3",
   "display_name": "Python 3.8.10 64-bit"
  },
  "interpreter": {
   "hash": "916dbcbb3f70747c44a77c7bcd40155683ae19c65e1c03b4aa3499c5328201f1"
  }
 },
 "nbformat": 4,
 "nbformat_minor": 2
}