{
 "cells": [
  {
   "cell_type": "markdown",
   "source": [
    "\"\"\"\n",
    "@Author: Samarth BM.\n",
    "@Date: 2021-09-27 08:54\n",
    "@Last Modified by: Samarth BM\n",
    "@Last Modified time: 2021-09-27 08:54\n",
    "@Title: To create and display one-dimensional array-like object containing an array of data using Pandas module.\n",
    "\"\"\""
   ],
   "metadata": {}
  },
  {
   "cell_type": "code",
   "execution_count": 1,
   "source": [
    "import pandas as pd\n",
    "from LogHandler import logger\n",
    "\n",
    "try:\n",
    "\n",
    "    my_series = pd.Series([18,12,14,15,16,17])\n",
    "    print(my_series)\n",
    "    \n",
    "except Exception as e:\n",
    "    logger.error(e)"
   ],
   "outputs": [
    {
     "output_type": "stream",
     "name": "stdout",
     "text": [
      "0    18\n",
      "1    12\n",
      "2    14\n",
      "3    15\n",
      "4    16\n",
      "5    17\n",
      "dtype: int64\n"
     ]
    }
   ],
   "metadata": {}
  }
 ],
 "metadata": {
  "orig_nbformat": 4,
  "language_info": {
   "name": "python",
   "version": "3.8.10",
   "mimetype": "text/x-python",
   "codemirror_mode": {
    "name": "ipython",
    "version": 3
   },
   "pygments_lexer": "ipython3",
   "nbconvert_exporter": "python",
   "file_extension": ".py"
  },
  "kernelspec": {
   "name": "python3",
   "display_name": "Python 3.8.10 64-bit"
  },
  "interpreter": {
   "hash": "916dbcbb3f70747c44a77c7bcd40155683ae19c65e1c03b4aa3499c5328201f1"
  }
 },
 "nbformat": 4,
 "nbformat_minor": 2
}