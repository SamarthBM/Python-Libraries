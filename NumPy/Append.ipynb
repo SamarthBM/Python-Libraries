{
 "cells": [
  {
   "cell_type": "markdown",
   "source": [
    "\"\"\"\n",
    "* @Author: Samarth BM.\n",
    "* @Date: 2021-09-25 10:28  \n",
    "* @Last Modified by: Samarth BM\n",
    "* @Last Modified time: 2021-09-25 10:28\n",
    "* @Title: To append values to existing array.\n",
    "\"\"\""
   ],
   "metadata": {}
  },
  {
   "cell_type": "code",
   "execution_count": 10,
   "source": [
    "import numpy as np\n",
    "from LogHandler import logger\n",
    "\n",
    "try:\n",
    "    my_list = ([10,20,30])\n",
    "    print(\"Original list:\\n\",my_list)\n",
    "\n",
    "    my_list = np.append(my_list,[40,50,60])\n",
    "    print(\"List after appending:\\n\",my_list)\n",
    "    logger.info(\"Values appended\")\n",
    "\n",
    "except Exception as e:\n",
    "    logger.error(e)"
   ],
   "outputs": [
    {
     "output_type": "stream",
     "name": "stdout",
     "text": [
      "Original list:\n",
      " [10, 20, 30]\n",
      "List after appending:\n",
      " [10 20 30 40 50 60]\n"
     ]
    }
   ],
   "metadata": {}
  }
 ],
 "metadata": {
  "orig_nbformat": 4,
  "language_info": {
   "name": "python",
   "version": "3.8.10",
   "mimetype": "text/x-python",
   "codemirror_mode": {
    "name": "ipython",
    "version": 3
   },
   "pygments_lexer": "ipython3",
   "nbconvert_exporter": "python",
   "file_extension": ".py"
  },
  "kernelspec": {
   "name": "python3",
   "display_name": "Python 3.8.10 64-bit"
  },
  "interpreter": {
   "hash": "916dbcbb3f70747c44a77c7bcd40155683ae19c65e1c03b4aa3499c5328201f1"
  }
 },
 "nbformat": 4,
 "nbformat_minor": 2
}