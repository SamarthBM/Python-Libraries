{
 "cells": [
  {
   "cell_type": "markdown",
   "source": [
    "\"\"\"\n",
    "* @Author: Samarth BM.\n",
    "* @Date: 2021-09-28 19:28\n",
    "* @Last Modified by: Samarth BM\n",
    "* @Last Modified time: 2021-09-28 19:28\n",
    "* @Title: To create bar plot from a DataFrame."
   ],
   "metadata": {}
  },
  {
   "cell_type": "code",
   "execution_count": 4,
   "source": [
    "from pandas import DataFrame\n",
    "import matplotlib.pyplot as plt\n",
    "import numpy as np\n",
    "from LogHandler import logger\n",
    "\n",
    "try:\n",
    "\n",
    "    a=np.array([[4,8,5,7,6],[2,3,4,2,6],[4,7,4,7,8],[2,6,4,8,6],[2,4,3,3,2]])\n",
    "    print(a)\n",
    "    index = ['stage1','stage2','stage3','stage4','stage5',]\n",
    "    df=DataFrame(a, columns=['a','b','c','d','e'], index=index)\n",
    "    print(df)\n",
    "\n",
    "    df.plot(kind='bar')\n",
    "\n",
    "    plt.show()\n",
    "    \n",
    "except Exception as e:\n",
    "    logger.error(e)"
   ],
   "outputs": [
    {
     "output_type": "stream",
     "name": "stdout",
     "text": [
      "[[4 8 5 7 6]\n",
      " [2 3 4 2 6]\n",
      " [4 7 4 7 8]\n",
      " [2 6 4 8 6]\n",
      " [2 4 3 3 2]]\n",
      "        a  b  c  d  e\n",
      "stage1  4  8  5  7  6\n",
      "stage2  2  3  4  2  6\n",
      "stage3  4  7  4  7  8\n",
      "stage4  2  6  4  8  6\n",
      "stage5  2  4  3  3  2\n"
     ]
    },
    {
     "output_type": "display_data",
     "data": {
      "image/png": "[encoded data removed]",
      "text/plain": [
       "<Figure size 432x288 with 1 Axes>"
      ]
     },
     "metadata": {
      "needs_background": "light"
     }
    }
   ],
   "metadata": {}
  }
 ],
 "metadata": {
  "orig_nbformat": 4,
  "language_info": {
   "name": "python",
   "version": "3.8.10",
   "mimetype": "text/x-python",
   "codemirror_mode": {
    "name": "ipython",
    "version": 3
   },
   "pygments_lexer": "ipython3",
   "nbconvert_exporter": "python",
   "file_extension": ".py"
  },
  "kernelspec": {
   "name": "python3",
   "display_name": "Python 3.8.10 64-bit"
  },
  "interpreter": {
   "hash": "916dbcbb3f70747c44a77c7bcd40155683ae19c65e1c03b4aa3499c5328201f1"
  }
 },
 "nbformat": 4,
 "nbformat_minor": 2
}