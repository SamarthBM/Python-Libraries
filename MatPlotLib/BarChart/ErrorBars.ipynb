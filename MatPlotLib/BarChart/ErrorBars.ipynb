{
 "cells": [
  {
   "cell_type": "markdown",
   "source": [
    "\"\"\"\n",
    "* @Author: Samarth BM.\n",
    "* @Date: 2021-09-28 19:39\n",
    "* @Last Modified by: Samarth BM\n",
    "* @Last Modified time: 2021-09-28 19:39\n",
    "* @Title: To create bar plots with error bars on the same figure."
   ],
   "metadata": {}
  },
  {
   "cell_type": "code",
   "execution_count": 7,
   "source": [
    "import numpy as np\n",
    "import matplotlib.pyplot as plt\n",
    "from LogHandler import logger\n",
    "\n",
    "try:\n",
    "\n",
    "    N = 5\n",
    "    menMeans = (54.74, 42.35, 67.37, 58.24, 30.25)\n",
    "    menStd = (4, 3, 4, 1, 5)\n",
    "\n",
    "    x_axis = np.arange(N)    \n",
    "   \n",
    "    plt.bar(x_axis, menMeans, width = 0.35, yerr=menStd, color='cyan')\n",
    "    plt.ylabel('Scores')\n",
    "    plt.xlabel('Velocity')\n",
    "    plt.title('Scores by Velocity')\n",
    "    \n",
    "    plt.show()\n",
    "except Exception as e:\n",
    "    logger.error(e)"
   ],
   "outputs": [
    {
     "output_type": "display_data",
     "data": {
      "image/png": "[encoded data removed]",
      "text/plain": [
       "<Figure size 432x288 with 1 Axes>"
      ]
     },
     "metadata": {
      "needs_background": "light"
     }
    }
   ],
   "metadata": {}
  }
 ],
 "metadata": {
  "orig_nbformat": 4,
  "language_info": {
   "name": "python"
  }
 },
 "nbformat": 4,
 "nbformat_minor": 2
}