{
 "cells": [
  {
   "cell_type": "code",
   "execution_count": null,
   "source": [
    "import logging\n",
    "\n",
    "logger = logging\n",
    "   \n",
    "# logging basic config method and saving log files\n",
    "logger.basicConfig(filename='Seaborn_barchart.log', level=logging.INFO,\n",
    "                    format='%(asctime)s:%(funcName)s:%(levelname)s:%(message)s')\n",
    "logger.basicConfig(filename='Seaborn_barchart.log', level=logging.ERROR,\n",
    "format='%(asctime)s:%(funcName)s:%(levelname)s:%(lineno)d')"
   ],
   "outputs": [],
   "metadata": {}
  }
 ],
 "metadata": {
  "orig_nbformat": 4,
  "language_info": {
   "name": "python"
  }
 },
 "nbformat": 4,
 "nbformat_minor": 2
}