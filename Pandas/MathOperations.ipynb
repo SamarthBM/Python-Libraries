{
 "cells": [
  {
   "cell_type": "markdown",
   "source": [
    "\"\"\"\n",
    "@Author: Samarth BM.\n",
    "@Date: 2021-09-27 09:10\n",
    "@Last Modified by: Samarth BM\n",
    "@Last Modified time: 2021-09-27 09:10\n",
    "@Title: To perform mathematical operations on pandas series.\n",
    "\"\"\""
   ],
   "metadata": {}
  },
  {
   "cell_type": "code",
   "execution_count": 3,
   "source": [
    "import pandas as pd\n",
    "from LogHandler import logger\n",
    "\n",
    "try:\n",
    "    series1 = pd.Series([8, 10, 16, 9, 22])\n",
    "    series2 = pd.Series([1, 3, 5, 7, 9])\n",
    "   \n",
    "    print(\"Add two Series:\")\n",
    "    print(series1+series2)\n",
    "  \n",
    "    print(\"Subtract two Series:\")\n",
    "    print(series1-series2)\n",
    "\n",
    "    print(\"Multiply two Series:\")\n",
    "    print(series1*series2)\n",
    "\n",
    "    print(\"Divide Series1 by Series2:\")\n",
    "    print(series1/series2)\n",
    "\n",
    "except Exception as e:\n",
    "    logger.error(e)"
   ],
   "outputs": [
    {
     "output_type": "stream",
     "name": "stdout",
     "text": [
      "Add two Series:\n",
      "0     9\n",
      "1    13\n",
      "2    21\n",
      "3    16\n",
      "4    31\n",
      "dtype: int64\n",
      "Subtract two Series:\n",
      "0     7\n",
      "1     7\n",
      "2    11\n",
      "3     2\n",
      "4    13\n",
      "dtype: int64\n",
      "Multiply two Series:\n",
      "0      8\n",
      "1     30\n",
      "2     80\n",
      "3     63\n",
      "4    198\n",
      "dtype: int64\n",
      "Divide Series1 by Series2:\n",
      "0    8.000000\n",
      "1    3.333333\n",
      "2    3.200000\n",
      "3    1.285714\n",
      "4    2.444444\n",
      "dtype: float64\n"
     ]
    }
   ],
   "metadata": {}
  }
 ],
 "metadata": {
  "orig_nbformat": 4,
  "language_info": {
   "name": "python",
   "version": "3.8.10",
   "mimetype": "text/x-python",
   "codemirror_mode": {
    "name": "ipython",
    "version": 3
   },
   "pygments_lexer": "ipython3",
   "nbconvert_exporter": "python",
   "file_extension": ".py"
  },
  "kernelspec": {
   "name": "python3",
   "display_name": "Python 3.8.10 64-bit"
  },
  "interpreter": {
   "hash": "916dbcbb3f70747c44a77c7bcd40155683ae19c65e1c03b4aa3499c5328201f1"
  }
 },
 "nbformat": 4,
 "nbformat_minor": 2
}